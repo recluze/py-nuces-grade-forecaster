{
 "cells": [
  {
   "cell_type": "markdown",
   "id": "historic-audit",
   "metadata": {},
   "source": [
    "# NUCES Grade Forecaster "
   ]
  },
  {
   "cell_type": "code",
   "execution_count": 67,
   "id": "racial-chamber",
   "metadata": {},
   "outputs": [],
   "source": [
    "# made by recluze \n",
    "\n",
    "# No guarantees of correctness. Test before you make decisions based on this. \n",
    "# Completely unofficial. Use at your own risk. "
   ]
  },
  {
   "cell_type": "code",
   "execution_count": 66,
   "id": "signal-restaurant",
   "metadata": {},
   "outputs": [],
   "source": [
    "# do not make changes to first two cells. Go to the last cell to enter details. "
   ]
  },
  {
   "cell_type": "code",
   "execution_count": 43,
   "id": "eastern-artist",
   "metadata": {},
   "outputs": [],
   "source": [
    "grade_points = {'A+': 4.00, 'A': 4.00, 'A-': 3.67, \n",
    "                'B+': 3.33, 'B': 3.00, 'B-': 2.67, \n",
    "                'C+': 2.33, 'C': 2.00, 'C-': 1.67, \n",
    "                'D+': 1.33, 'D': 1.00, 'F' : 0}"
   ]
  },
  {
   "cell_type": "code",
   "execution_count": 62,
   "id": "exposed-polls",
   "metadata": {},
   "outputs": [],
   "source": [
    "subjects = {} \n",
    "\n",
    "def add_new_subject(code, expected_grade, credits=3): \n",
    "    subjects[code] = {'grade': expected_grade, \n",
    "                      'credits': credits, \n",
    "                      'type': 'new'}\n",
    "    \n",
    "\n",
    "def improve_subject(code, expected_grade, past_grade, credits=3): \n",
    "    subjects[code] = {'grade': expected_grade, \n",
    "                      'credits': credits, \n",
    "                      'past_grade': past_grade, \n",
    "                      'type': 'improvement'}\n",
    "\n",
    "def get_expected_cgpa(): \n",
    "    # expected at the end of semester \n",
    "    exp_attempted_credits = attempted_credits \n",
    "    \n",
    "    exp_total_weight = attempted_credits * current_cgpa \n",
    "    # print(exp_total_weight)\n",
    "        \n",
    "    for code, details in subjects.items(): \n",
    "        this_course_credits = details['credits']\n",
    "        this_course_grade = details['grade']\n",
    "        \n",
    "        if details['type'] == 'new': \n",
    "            # for new courses, just add this to the weight \n",
    "            exp_attempted_credits += this_course_credits\n",
    "            exp_total_weight += grade_points[this_course_grade] * this_course_credits\n",
    "            \n",
    "        elif details['type'] == 'improvement': \n",
    "            # for past courses, we first need to remove it from the old record \n",
    "            past_course_grade = details['past_grade']    \n",
    "            past_course_points = grade_points[past_course_grade] * this_course_credits \n",
    "            exp_total_weight -= past_course_points\n",
    "            \n",
    "            # now add the new points, attempted_credits does not change \n",
    "            exp_total_weight += grade_points[this_course_grade] * this_course_credits\n",
    "            \n",
    "    # recalculate expected CGPA \n",
    "    return (exp_total_weight, exp_attempted_credits, exp_total_weight / exp_attempted_credits)"
   ]
  },
  {
   "cell_type": "code",
   "execution_count": 65,
   "id": "located-louisiana",
   "metadata": {},
   "outputs": [
    {
     "data": {
      "text/plain": [
       "(214.0, 104, 2.0576923076923075)"
      ]
     },
     "execution_count": 65,
     "metadata": {},
     "output_type": "execute_result"
    }
   ],
   "source": [
    "## Make changes to this cell \n",
    "\n",
    "attempted_credits = 100     # these are BEFORE student register for any course in this semester \n",
    "current_cgpa = 1.9          # reported CGPA for past (finished semester)\n",
    "\n",
    "\n",
    "subjects = {} # reset everything. After all, we're using a stupid global variable here.  \n",
    "\n",
    "# a subject never before taken \n",
    "add_new_subject(code='CS205', expected_grade='A')\n",
    "add_new_subject(code='CL205', expected_grade='F', credits=1)     # can specify credits if not 3 \n",
    "\n",
    "# a subject being improved. Add labs as separate subjects \n",
    "improve_subject(code='CS218', expected_grade='A', past_grade='F')   \n",
    "\n",
    "get_expected_cgpa()  # third element shows expected CGPA "
   ]
  },
  {
   "cell_type": "code",
   "execution_count": null,
   "id": "activated-combat",
   "metadata": {},
   "outputs": [],
   "source": []
  },
  {
   "cell_type": "code",
   "execution_count": null,
   "id": "indian-martin",
   "metadata": {},
   "outputs": [],
   "source": []
  }
 ],
 "metadata": {
  "kernelspec": {
   "display_name": "Python 3",
   "language": "python",
   "name": "python3"
  },
  "language_info": {
   "codemirror_mode": {
    "name": "ipython",
    "version": 3
   },
   "file_extension": ".py",
   "mimetype": "text/x-python",
   "name": "python",
   "nbconvert_exporter": "python",
   "pygments_lexer": "ipython3",
   "version": "3.9.1"
  }
 },
 "nbformat": 4,
 "nbformat_minor": 5
}
